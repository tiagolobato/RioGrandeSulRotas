{
  "cells": [
    {
      "cell_type": "markdown",
      "metadata": {
        "id": "view-in-github",
        "colab_type": "text"
      },
      "source": [
        "<a href=\"https://colab.research.google.com/github/tiagolobato/RioGrandeSulRotas/blob/main/Rotas.ipynb\" target=\"_parent\"><img src=\"https://colab.research.google.com/assets/colab-badge.svg\" alt=\"Open In Colab\"/></a>"
      ]
    },
    {
      "cell_type": "markdown",
      "metadata": {
        "id": "Tce3stUlHN0L"
      },
      "source": [
        "##### Copyright 2024 Google LLC."
      ]
    },
    {
      "cell_type": "code",
      "execution_count": null,
      "metadata": {
        "cellView": "form",
        "id": "tuOe1ymfHZPu"
      },
      "outputs": [],
      "source": [
        "#@title Licensed under the Apache License, Version 2.0 (the \"License\");\n",
        "# you may not use this file except in compliance with the License.\n",
        "# You may obtain a copy of the License at\n",
        "#\n",
        "# https://www.apache.org/licenses/LICENSE-2.0\n",
        "#\n",
        "# Unless required by applicable law or agreed to in writing, software\n",
        "# distributed under the License is distributed on an \"AS IS\" BASIS,\n",
        "# WITHOUT WARRANTIES OR CONDITIONS OF ANY KIND, either express or implied.\n",
        "# See the License for the specific language governing permissions and\n",
        "# limitations under the License."
      ]
    },
    {
      "cell_type": "markdown",
      "metadata": {
        "id": "kHkHARdb1ZID"
      },
      "source": [
        "## Instalar a SDK"
      ]
    },
    {
      "cell_type": "code",
      "execution_count": null,
      "metadata": {
        "id": "J6Pd9SFJ1yVi"
      },
      "outputs": [],
      "source": [
        "!pip install -q -U google-generativeai"
      ]
    },
    {
      "cell_type": "markdown",
      "metadata": {
        "id": "EeMCtmx9ykyx"
      },
      "source": [
        "## Configurar a API KEY"
      ]
    },
    {
      "cell_type": "code",
      "execution_count": null,
      "metadata": {
        "id": "HTiaTu6O1LRC"
      },
      "outputs": [],
      "source": [
        "# Import the Python SDK\n",
        "import google.generativeai as genai\n",
        "# Used to securely store your API key\n",
        "from google.colab import userdata\n",
        "\n",
        "GOOGLE_API_KEY='YOUR_API_KEY'\n",
        "genai.configure(api_key=GOOGLE_API_KEY)"
      ]
    },
    {
      "cell_type": "code",
      "source": [
        "import requests\n",
        "import pdb\n",
        "import re\n",
        "\n",
        "from bs4 import BeautifulSoup\n",
        "\n",
        "def get_cities_list():\n",
        "\n",
        "  def extract_card_data(card_div):\n",
        "    \"\"\"\n",
        "    Extrai informações relevantes de um único elemento de cartão (div).\n",
        "\n",
        "    Args:\n",
        "        card_div: O elemento BeautifulSoup que representa a div do cartão.\n",
        "\n",
        "    Returns:\n",
        "        Um dicionário contendo as informações extraídas do cartão, ou um dicionário vazio se houver algum erro.\n",
        "    \"\"\"\n",
        "    data = {}\n",
        "    try:\n",
        "      header = card_div.find('div', class_='panel-heading card-header card-item-title')\n",
        "      data['titulo'] = header.text.strip() if header else None\n",
        "\n",
        "      body = card_div.find('div', class_='panel-body card-body card-item-content')\n",
        "      #pdb.set_trace()\n",
        "      if body:\n",
        "        # Extrair informações usando expressões regulares pode ser mais robusto,\n",
        "        # mas aqui usamos uma abordagem simples com base na estrutura HTML observada.\n",
        "        strong_tags = body.find_all('strong')\n",
        "        data['origem'] = strong_tags[0].next_sibling.strip()\n",
        "        data['destino'] = strong_tags[1].next_sibling.strip()\n",
        "        data['atualizacao'] = strong_tags[2].next_sibling.strip()\n",
        "        data['descricao'] = strong_tags[3].next_sibling.strip()\n",
        "        # Obter link do mapa (se existir)\n",
        "        links_with_onclick = body.find_all('a', href=\"javascript:void(0);\", onclick=True)\n",
        "        map_links= []\n",
        "\n",
        "        for link in links_with_onclick:\n",
        "          onclick_value = link['onclick']\n",
        "          match = re.search(r\"window\\.open\\('(.*?)'\", onclick_value)\n",
        "          if match:\n",
        "            map_link = match.group(1)\n",
        "            map_links.append(map_link)\n",
        "\n",
        "        map_link = body.find('a', class_='btn btn-success w-100')\n",
        "        data['rota1'] = map_links[0] if len(map_links) > 0 else None\n",
        "        data['rota2'] = map_links[1] if len(map_links) > 1 else None\n",
        "    except (AttributeError, IndexError) as e:\n",
        "      print(f\"Erro ao extrair dados do cartão: {e}\")\n",
        "\n",
        "    return data\n",
        "\n",
        "  def get_card_list_data(url):\n",
        "    \"\"\"\n",
        "    Busca a lista de cartões da URL fornecida e extrai as informações de cada cartão.\n",
        "\n",
        "    Args:\n",
        "        url: A URL da página a ser analisada.\n",
        "\n",
        "    Returns:\n",
        "        Uma lista de dicionários, onde cada dicionário contém as informações de um cartão.\n",
        "        Retorna uma lista vazia se nenhum cartão for encontrado ou se houver um erro.\n",
        "    \"\"\"\n",
        "    try:\n",
        "      response = requests.get(url)\n",
        "      response.raise_for_status()\n",
        "\n",
        "      soup = BeautifulSoup(response.content, 'html.parser')\n",
        "      card_divs = soup.find_all('div', class_='panel card panel-default card-item')\n",
        "\n",
        "      card_data_list = []\n",
        "      for card_div in card_divs:\n",
        "        card_data = extract_card_data(card_div)\n",
        "        card_data_list.append(card_data)\n",
        "\n",
        "      return card_data_list\n",
        "    except requests.exceptions.RequestException as e:\n",
        "      print(f\"Erro na solicitação: {e}\")\n",
        "      return []\n",
        "\n",
        "  url = \"https://crbm.app.br/gestao-de-rotas/engine.php?class=RotaCardList\"\n",
        "  card_data_list = get_card_list_data(url)\n",
        "  return card_data_list"
      ],
      "metadata": {
        "id": "CXka6vgCOI36"
      },
      "execution_count": null,
      "outputs": []
    },
    {
      "cell_type": "markdown",
      "metadata": {
        "id": "CZPYk29o2No0"
      },
      "source": [
        "## Initialize the Generative Model\n",
        "\n",
        "Before you can make any API calls, you need to initialize the Generative Model."
      ]
    },
    {
      "cell_type": "code",
      "execution_count": null,
      "metadata": {
        "id": "s-JqXcDe2hZ_"
      },
      "outputs": [],
      "source": [
        "\"\"\"\n",
        "At the command line, only need to run once to install the package via pip:\n",
        "\n",
        "$ pip install google-generativeai\n",
        "\"\"\"\n",
        "\n",
        "import google.generativeai as genai\n",
        "\n",
        "\n",
        "# Set up the model\n",
        "generation_config = {\n",
        "  \"temperature\": 0,\n",
        "  \"top_p\": 0.95,\n",
        "  \"top_k\": 0,\n",
        "  \"max_output_tokens\": 8192,\n",
        "}\n",
        "\n",
        "safety_settings = [\n",
        "  {\n",
        "    \"category\": \"HARM_CATEGORY_HARASSMENT\",\n",
        "    \"threshold\": \"BLOCK_MEDIUM_AND_ABOVE\"\n",
        "  },\n",
        "  {\n",
        "    \"category\": \"HARM_CATEGORY_HATE_SPEECH\",\n",
        "    \"threshold\": \"BLOCK_MEDIUM_AND_ABOVE\"\n",
        "  },\n",
        "  {\n",
        "    \"category\": \"HARM_CATEGORY_SEXUALLY_EXPLICIT\",\n",
        "    \"threshold\": \"BLOCK_MEDIUM_AND_ABOVE\"\n",
        "  },\n",
        "  {\n",
        "    \"category\": \"HARM_CATEGORY_DANGEROUS_CONTENT\",\n",
        "    \"threshold\": \"BLOCK_MEDIUM_AND_ABOVE\"\n",
        "  },\n",
        "]\n",
        "\n"
      ]
    },
    {
      "cell_type": "markdown",
      "metadata": {
        "id": "nXxypzJH4MUl"
      },
      "source": [
        "## Generate text"
      ]
    },
    {
      "cell_type": "code",
      "execution_count": null,
      "metadata": {
        "id": "j51mcrLD4Y2W"
      },
      "outputs": [],
      "source": [
        "model = genai.GenerativeModel(model_name=\"gemini-1.5-pro-latest\",\n",
        "                              generation_config=generation_config,\n",
        "                              safety_settings=safety_settings)\n",
        "cities= get_cities_list()\n",
        "convo = model.start_chat(history=[\n",
        "  {\n",
        "    \"role\": \"user\",\n",
        "    \"parts\": [f\"{cities}\"]\n",
        "  },\n",
        "  {\n",
        "    \"role\": \"model\",\n",
        "    \"parts\":[\"ok\"]\n",
        "  },\n",
        "  {\n",
        "    \"role\": \"user\",\n",
        "    \"parts\": [\"Voce deve responder seguindo o modelo abaixo, e somente o modelo abaixo, não responda nada alem disso, caso pergutem algo que não seja relacionado as rotas das cidades você deve responder 'Desculpe, tenho conhecimento apenas de rotas entre cidades, caso queira fazer perguntas genericas visite o https://gemini.google.com/'. Se voce não achar a cidades que foram perguntandas voce deve responder 'Não encontrei o trajeto das cidades, conferir no site: https://crbm.app.br/gestao-de-rotas/index.php?class=RotaCardList'.Caso não tenha a rota 2 deve ignorar esse campo, Segue exemplo- Pergunta: Quero ir de VACARIA para RIO GRANDE\\n\\nResposta:\\nTitulo: VACARIA x RIO GRANDE\\nDescrição: OPÇÃO 1 - VACARIA A RIO GRANDE VIA SÃO JOSE DO NORTE - OPÇÃO 2 - VACARIA A RIO GRANDE VIA ALEGRETE\\nUltima atualização: 07/05/2024 17:44\\nRota 1:https://www.google.com/maps/d/u/0/viewer?usp=sharing&mid=1iJuIEOo6P_YC-2-DbkTWD7bFv8L8C90\\nRota 2: https://www.google.com/maps/d/viewer?mid=11WP2Ubom3zuqpcjhoImHwHkaGDYuAJI\"]\n",
        "  },\n",
        "  {\n",
        "    \"role\": \"model\",\n",
        "    \"parts\":[\"ok\"]\n",
        "  },\n",
        "])\n",
        "\n",
        "\n",
        "print(\"Olá\")\n",
        "prompt = input(\"Digite a cidade de origem e a cidade de destino: \")\n",
        "while prompt != \"sair\":\n",
        "  convo.send_message(f\"Pergunta: {prompt}\")\n",
        "  print(convo.last.text)\n",
        "  prompt = input(\"Digite a cidade de origem e a cidade de destino: \")\n",
        "\n",
        "\n",
        "\n"
      ]
    }
  ],
  "metadata": {
    "colab": {
      "toc_visible": true,
      "provenance": [],
      "include_colab_link": true
    },
    "kernelspec": {
      "display_name": "Python 3",
      "name": "python3"
    }
  },
  "nbformat": 4,
  "nbformat_minor": 0
}